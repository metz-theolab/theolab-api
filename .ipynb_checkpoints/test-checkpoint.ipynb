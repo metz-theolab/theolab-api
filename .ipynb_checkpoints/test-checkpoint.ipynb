{
 "cells": [
  {
   "cell_type": "code",
   "execution_count": 2,
   "id": "a756dd0a-c9af-4fba-a6e5-2bfaf7e6892a",
   "metadata": {},
   "outputs": [],
   "source": [
    "from collatex import *\n",
    "from collatex.core_classes import AlignmentTable, Token"
   ]
  },
  {
   "cell_type": "code",
   "execution_count": 3,
   "id": "b18d4be6-8bc4-49f6-80b1-39f52be7175a",
   "metadata": {},
   "outputs": [
    {
     "data": {
      "text/plain": [
       "''"
      ]
     },
     "execution_count": 3,
     "metadata": {},
     "output_type": "execute_result"
    }
   ],
   "source": [
    "Token().token_string"
   ]
  },
  {
   "cell_type": "code",
   "execution_count": 13,
   "id": "55901b57-1c8e-4be4-bae7-f4cd1954bfe6",
   "metadata": {},
   "outputs": [
    {
     "data": {
      "text/html": [
       "<TABLE border=\"1\" style=\"border: 1px solid #000000; border-collapse: collapse;\" cellpadding=\"4\">\n",
       " <TR>\n",
       "  <TH>A</TH>\n",
       "  <TH>B</TH>\n",
       " </TR>\n",
       " <TR>\n",
       "  <TD bgcolor=\"00FFFF\">this</TD>\n",
       "  <TD bgcolor=\"00FFFF\">this</TD>\n",
       " </TR>\n",
       " <TR>\n",
       "  <TD bgcolor=\"00FFFF\">is</TD>\n",
       "  <TD bgcolor=\"00FFFF\">is</TD>\n",
       " </TR>\n",
       " <TR>\n",
       "  <TD bgcolor=\"00FFFF\">a</TD>\n",
       "  <TD bgcolor=\"00FFFF\">a</TD>\n",
       " </TR>\n",
       " <TR>\n",
       "  <TD bgcolor=\"FF0000\">god</TD>\n",
       "  <TD bgcolor=\"FF0000\">dog</TD>\n",
       " </TR>\n",
       "</TABLE>"
      ],
      "text/plain": [
       "<IPython.core.display.HTML object>"
      ]
     },
     "metadata": {},
     "output_type": "display_data"
    }
   ],
   "source": [
    "collation = Collation()\n",
    "\n",
    "#collation.add_plain_witness(\"A\", \"בבורחו מלפני שאול\")\n",
    "#collation.add_plain_witness(\"B\", \"בְּבָרְח֥וֹ מִפְּנֵי־ שָׁ֝א֗וּל\")\n",
    "\n",
    "collation.add_plain_witness(\"A\", \"this is a god\")\n",
    "collation.add_plain_witness(\"B\", \"this is a dog\")\n",
    "\n",
    "alignment_table = collate(collation, segmentation=False, output='html2', layout=\"vertical\")"
   ]
  },
  {
   "cell_type": "code",
   "execution_count": null,
   "id": "220ee890-3488-43db-9492-2b879473da88",
   "metadata": {},
   "outputs": [],
   "source": []
  },
  {
   "cell_type": "code",
   "execution_count": 5,
   "id": "5748cf48-fc18-4b7d-8167-71fd7cbe5678",
   "metadata": {},
   "outputs": [],
   "source": [
    "row = alignment_table.rows[0]\n",
    "row1 = alignment_table.rows[1]"
   ]
  },
  {
   "cell_type": "code",
   "execution_count": 12,
   "id": "3e81d10d-d0e3-4d85-9043-1f7ed7cb1293",
   "metadata": {},
   "outputs": [],
   "source": [
    "col = alignment_table.columns[0]"
   ]
  },
  {
   "cell_type": "code",
   "execution_count": 13,
   "id": "359484cf-0eff-4bed-8dc4-5f98485cbf08",
   "metadata": {},
   "outputs": [],
   "source": [
    "wit = alignment_table.collation.witnesses[0]"
   ]
  },
  {
   "cell_type": "code",
   "execution_count": 17,
   "id": "e29d48a8-f087-4336-9f65-73b5f29eefe2",
   "metadata": {},
   "outputs": [
    {
     "name": "stdout",
     "output_type": "stream",
     "text": [
      "{'A': [בראשית, ברא, אלהים, את, השמים, ואת, הארץ], 'B': [ברשית, ֯]}\n",
      "{'A-B': [בראשית, ברא, אלהים, את, השמים, ואת, הארץ, ברשית, ֯]}\n"
     ]
    }
   ],
   "source": [
    "witness_list = [wit.sigil for wit in alignment_table.collation.witnesses]\n",
    "\n",
    "for col in alignment_table.columns:\n",
    "    if col.variant:\n",
    "        print(col.tokens_per_witness)\n",
    "        variants = col.tokens_per_witness\n",
    "        for key, val in variants.items():\n",
    "            if val == []:\n",
    "                variants[key] = [\"\"]\n",
    "        combined_values = combine_values(variants)\n",
    "        print(combined_values)"
   ]
  },
  {
   "cell_type": "code",
   "execution_count": 8,
   "id": "d9467042-7cce-4aa7-b562-08e52714f3b9",
   "metadata": {},
   "outputs": [],
   "source": [
    "\n",
    "\n",
    "\n",
    "def detect_omission(variant_list: list[str]):\n",
    "    \"\"\"Detect an omission.\n",
    "    \"\"\"\n",
    "    return \"\" in variant_list\n",
    "\n",
    "\n",
    "def analyze_variants(variant_list: list[str]):\n",
    "    \"\"\"Given a list of variants, perform the analysis.\n",
    "    \"\"\"\n",
    "    return {\n",
    "        \"guessed_type\": \"omission\" if detect_omission(variant_list) else \"unknown\",\n",
    "        \"distance\": \"\",\n",
    "        \"letter_difference\": variant_list[0]\n",
    "    }\n",
    "\n",
    "def combine_values(dictionary):\n",
    "    result = {}\n",
    "    \n",
    "    # Iterate through all unique key pairs in the dictionary\n",
    "    for i, (key1, value1) in enumerate(dictionary.items()):\n",
    "        for key2, value2 in list(dictionary.items())[i+1:]:\n",
    "            # Create a new key by combining the original keys\n",
    "            new_key = f\"{key1}-{key2}\"\n",
    "            \n",
    "            # Combine the corresponding values into a new list\n",
    "            new_value = value1 + value2\n",
    "            \n",
    "            # Update the result dictionary\n",
    "            result[new_key] = new_value\n",
    "    \n",
    "    return result\n",
    "    \n",
    "def analyze_collations(alignment_table: AlignmentTable):\n",
    "    \"\"\"Analyze an input collation table.\n",
    "    \"\"\"\n",
    "    witness_list = [wit.sigil for wit in alignment_table.collation.witnesses]\n",
    "    variant_analysis = {} \n",
    "    for ix, col in enumerate(alignment_table.columns):\n",
    "        if col.variant:\n",
    "            variant_analysis[ix] = {}\n",
    "            variants = col.tokens_per_witness\n",
    "            for key, val in variants.items():\n",
    "                if val == [\"\"]:\n",
    "                    variants[key] = [Token()]\n",
    "            combined_values = combine_values(variants)\n",
    "            for key, value in combined_values.items():\n",
    "                variant_list = [val.token_string for val in value]\n",
    "                variant_analysis[ix][key] = analyze_variants(variant_list)\n",
    "    return variant_analysis"
   ]
  },
  {
   "cell_type": "code",
   "execution_count": 116,
   "id": "d0468f77-4c0d-47ad-8bbd-6b6771275b3b",
   "metadata": {},
   "outputs": [
    {
     "data": {
      "text/plain": [
       "{0: {'A-B': {'guessed_type': 'unknown',\n",
       "   'distance': '',\n",
       "   'letter_difference': str},\n",
       "  'A-C': {'guessed_type': 'unknown', 'distance': '', 'letter_difference': str},\n",
       "  'B-C': {'guessed_type': 'unknown',\n",
       "   'distance': '',\n",
       "   'letter_difference': str}},\n",
       " 1: {'A-B': {'guessed_type': 'unknown',\n",
       "   'distance': '',\n",
       "   'letter_difference': str},\n",
       "  'A-C': {'guessed_type': 'omission',\n",
       "   'distance': '',\n",
       "   'letter_difference': str},\n",
       "  'B-C': {'guessed_type': 'omission',\n",
       "   'distance': '',\n",
       "   'letter_difference': str}},\n",
       " 2: {'A-B': {'guessed_type': 'unknown',\n",
       "   'distance': '',\n",
       "   'letter_difference': str},\n",
       "  'A-C': {'guessed_type': 'omission',\n",
       "   'distance': '',\n",
       "   'letter_difference': str},\n",
       "  'B-C': {'guessed_type': 'omission',\n",
       "   'distance': '',\n",
       "   'letter_difference': str}},\n",
       " 3: {'A-B': {'guessed_type': 'omission',\n",
       "   'distance': '',\n",
       "   'letter_difference': str},\n",
       "  'A-C': {'guessed_type': 'omission',\n",
       "   'distance': '',\n",
       "   'letter_difference': str},\n",
       "  'B-C': {'guessed_type': 'omission',\n",
       "   'distance': '',\n",
       "   'letter_difference': str}}}"
      ]
     },
     "execution_count": 116,
     "metadata": {},
     "output_type": "execute_result"
    }
   ],
   "source": [
    "analyze_collations(alignment_table)"
   ]
  },
  {
   "cell_type": "code",
   "execution_count": 94,
   "id": "70ec7f9a-0e75-41b5-ba26-a2f0d5fde1c0",
   "metadata": {},
   "outputs": [
    {
     "ename": "NameError",
     "evalue": "name 'Token' is not defined",
     "output_type": "error",
     "traceback": [
      "\u001b[0;31m---------------------------------------------------------------------------\u001b[0m",
      "\u001b[0;31mNameError\u001b[0m                                 Traceback (most recent call last)",
      "Cell \u001b[0;32mIn[94], line 1\u001b[0m\n\u001b[0;32m----> 1\u001b[0m \u001b[43mToken\u001b[49m\n",
      "\u001b[0;31mNameError\u001b[0m: name 'Token' is not defined"
     ]
    }
   ],
   "source": [
    "oken"
   ]
  },
  {
   "cell_type": "code",
   "execution_count": 51,
   "id": "6d54aa56-a483-4224-a2e9-4fc4dc8ab0c9",
   "metadata": {},
   "outputs": [],
   "source": []
  }
 ],
 "metadata": {
  "kernelspec": {
   "display_name": "Python 3 (ipykernel)",
   "language": "python",
   "name": "python3"
  },
  "language_info": {
   "codemirror_mode": {
    "name": "ipython",
    "version": 3
   },
   "file_extension": ".py",
   "mimetype": "text/x-python",
   "name": "python",
   "nbconvert_exporter": "python",
   "pygments_lexer": "ipython3",
   "version": "3.11.0"
  }
 },
 "nbformat": 4,
 "nbformat_minor": 5
}
